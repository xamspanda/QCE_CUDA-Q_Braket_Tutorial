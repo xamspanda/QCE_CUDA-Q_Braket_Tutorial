{
 "cells": [
  {
   "cell_type": "markdown",
   "id": "0c1e254d",
   "metadata": {},
   "source": [
    "# Lab 2 - QC-AFQMC with Amazon Braket and AWS Batch\n",
    "\n",
    "## Introduction\n",
    "\n",
    "In this lab, we will run a hybrid quantum-classical AFQMC workload for the hydrogen molecule using both Amazon Braket and AWS Batch. We use the [Amazon Braket Hybrid Job](https://docs.aws.amazon.com/braket/latest/developerguide/braket-what-is-hybrid-job.html) feature to perform shadow tomography. Then AWS Batch helps you to run the successive post-processing workloads using classical computing resources, in a similar way to our previous lab. \n",
    "\n",
    "In the following, we will go through the steps to\n",
    "1. Create a hybrid job for shadow tomography using 4000 circuits (100 shots each)\n",
    "2. Demonstrate how the post-processing of classical shadows are performed\n",
    "3. Run a large scale QC-AFQMC example with 200 child jobs running on multiple compute instances in parallel\n",
    "4. Compare the results of QC-AFQMC calculation with the previous classical AFQMC calculation\n",
    "\n",
    "Let's create the boto3 clients for the services we will use in this lab. Some additional packages are needed for this section, so we'll install them first."
   ]
  },
  {
   "cell_type": "code",
   "execution_count": null,
   "id": "5431ef4a-1d6f-4cf2-88cd-3048729a5489",
   "metadata": {},
   "outputs": [],
   "source": [
    "pip install --quiet numba"
   ]
  },
  {
   "cell_type": "code",
   "execution_count": null,
   "id": "68f61beb",
   "metadata": {},
   "outputs": [],
   "source": [
    "import boto3\n",
    "\n",
    "sts_client = boto3.client(\"sts\")\n",
    "s3_client = boto3.client(\"s3\")\n",
    "cfn_client = boto3.client(\"cloudformation\")\n",
    "batch_client = boto3.client(\"batch\")"
   ]
  },
  {
   "cell_type": "code",
   "execution_count": null,
   "id": "4f41cf6c",
   "metadata": {},
   "outputs": [],
   "source": [
    "# Get my account ID\n",
    "ACCOUNT_ID = sts_client.get_caller_identity().get(\"Account\")\n",
    "print(\"Account ID:\", ACCOUNT_ID)\n",
    "\n",
    "# Get my region \n",
    "my_session = boto3.session.Session()\n",
    "WORKING_REGION = my_session.region_name\n",
    "print(\"Region:\", WORKING_REGION)"
   ]
  },
  {
   "cell_type": "markdown",
   "id": "8605966a",
   "metadata": {},
   "source": [
    "## Create a hybrid job\n",
    "\n",
    "![](images/braket-hybrid-job.png)\n",
    "\n",
    "Amazon Braket Hybrid Job offers a way for you to run hybrid quantum-classical algorithms requiring both classical AWS resources and quantum processing units (QPUs). Hybrid Jobs is ideal for long-running, iterative algorithms that involve the use of both classical computing resources and quantum computing resources. With Hybrid Jobs, after submitting your algorithm to run, Braket will run your algorithm in a scalable, containerized environment. Once the algorithm has completed, you can then retrieve the results.\n",
    "\n",
    "Additionally, quantum tasks that are created from a hybrid job benefit from higher priority queueing to the target QPU device. This prioritization ensures that your quantum computations are processed and ran ahead of other tasks waiting in the queue. This is particularly advantageous for iterative hybrid algorithms, where the results of one quantum task depend on the outcomes of prior quantum tasks.\n",
    "\n",
    "Specifically for our job, we will specify the following\n",
    "- `device`: on which hardware the job is to be run\n",
    "- `source_module`: folder of source code\n",
    "- `entry_point`: which function is to be executed by the job\n",
    "- `job_name`: job name\n",
    "- `instance_config`: which type of EC2 instance is the classical part of the job hosted\n",
    "- `output_data_config`: S3 bucket for storing the output of this job\n",
    "- `hyperparameters`\n",
    "  - `ShadowSize`: number of shadow circuits\n",
    "  - `Shots`: number of shots for each circuit\n",
    "  \n",
    "Specifically, we include a [`requirements.txt`](./afqmc/requirements.txt) file inside the source folder, and the packages will be installed on the fly at the beginning of the job. In addition, you can also provide custom container image for your job."
   ]
  },
  {
   "cell_type": "code",
   "execution_count": null,
   "id": "bbac78ac",
   "metadata": {},
   "outputs": [],
   "source": [
    "from braket.aws import AwsQuantumJob\n",
    "from braket.jobs.config import InstanceConfig, OutputDataConfig\n",
    "from braket.devices import Devices\n",
    "\n",
    "data_bucket = f\"s3://amazon-braket-batch-tutorial-{ACCOUNT_ID}-{WORKING_REGION}\"\n",
    "hybrid_job_output_prefix = \"braket/lab-2-qc-afqmc-matchgate-circuits\"\n",
    "\n",
    "job = AwsQuantumJob.create(\n",
    "    device=\"local:pennylane/lightning.qubit\",\n",
    "    source_module=\"afqmc\",\n",
    "    entry_point=\"afqmc.collect_shadow:main\",\n",
    "    job_name=\"lab-2-afqmc-matchgate-circuits\",\n",
    "    instance_config=InstanceConfig(instanceType=\"ml.m5.xlarge\"),\n",
    "    output_data_config=OutputDataConfig(\n",
    "        s3Path=f\"{data_bucket}/{hybrid_job_output_prefix}\",\n",
    "    ),\n",
    "    hyperparameters={\n",
    "        \"ShadowSize\": \"4000\",\n",
    "        \"Shots\": \"100\",\n",
    "    },\n",
    ")"
   ]
  },
  {
   "cell_type": "code",
   "execution_count": null,
   "id": "f4c9f95e",
   "metadata": {},
   "outputs": [],
   "source": [
    "job.state()"
   ]
  },
  {
   "cell_type": "markdown",
   "id": "a1ce03f2",
   "metadata": {},
   "source": [
    "Once the hybrid job starts, it will change the status to `RUNNING`. We can also check the hybrid job status in the Braket console.\n",
    "\n",
    "We can monitor the metrics in near-real time in the [Braket console page](https://console.aws.amazon.com/braket/) as shown below.\n",
    "\n",
    "![](./images/hybrid-job-monitor.png)\n",
    "\n",
    "<div class=\"alert alert-block alert-success\">\n",
    "<b>Activity:</b> Once your job is in the COMPLETED state, navigate to the S3 management console and to locate the results file.\n",
    "</div>"
   ]
  },
  {
   "cell_type": "code",
   "execution_count": null,
   "id": "b8b81aa8",
   "metadata": {},
   "outputs": [],
   "source": [
    "measurement_output = job.result()['output']\n",
    "Q_save = job.result()['Q_save']"
   ]
  },
  {
   "cell_type": "markdown",
   "id": "11ac8435",
   "metadata": {},
   "source": [
    "## Post-processing classical shadows\n",
    "\n",
    "As we discussed in the introduction, the core quantities that need to be processed during the propagation of the walkers are the overlap $\\langle\\Psi_T|\\phi\\rangle$ and the local energy $\\langle\\Psi_T|H|\\phi\\rangle$.\n",
    "\n",
    "Now let's take a closer look at how these classical shadows are post-processed to reconstruct these two quantities for the QC-QMC calculation. We choose an example walker state $|\\phi_0\\rangle$, which is the Hartree-Fock state. And we'll compute the overlap and local energy of the quantum trial state with $|\\phi_0\\rangle$. First let's find the electronic Hamiltonian for the hydrogen molecule (at equilibrium geometry)."
   ]
  },
  {
   "cell_type": "code",
   "execution_count": null,
   "id": "4fca99af",
   "metadata": {},
   "outputs": [],
   "source": [
    "import time, copy\n",
    "import numpy as np\n",
    "import pennylane as qml\n",
    "\n",
    "np.set_printoptions(precision=6, edgeitems=10, linewidth=150, suppress=True)"
   ]
  },
  {
   "cell_type": "code",
   "execution_count": null,
   "id": "89cc5335",
   "metadata": {},
   "outputs": [],
   "source": [
    "###########################################################\n",
    "# Prepare the necessary operators for AFQMC calculations. #\n",
    "###########################################################\n",
    "from pyscf.scf.hf import RHF\n",
    "from pyscf.gto.mole import Mole\n",
    "from pyscf import fci, gto, scf\n",
    "from afqmc.utils.chemical_preparation import chemistry_preparation\n",
    "\n",
    "# perform HF calculations\n",
    "mol = gto.M(atom=\"H 0. 0. 0.; H 0. 0. 0.75\", basis=\"sto-3g\")\n",
    "hf = mol.RHF()\n",
    "hf.kernel()\n",
    "prop = chemistry_preparation(mol, hf)\n",
    "\n",
    "Angstrom_to_Bohr = 1.88973\n",
    "symbols = [\"H\", \"H\"]\n",
    "geometry = np.array([[0., 0., 0.], [0., 0., 0.75*Angstrom_to_Bohr]])\n",
    "hamiltonian, _ = qml.qchem.molecular_hamiltonian(symbols, geometry, charge=0, basis='sto-3g')"
   ]
  },
  {
   "cell_type": "markdown",
   "id": "e56bb8d8",
   "metadata": {},
   "source": [
    "### Quantum trial state\n",
    "\n",
    "Then let's take a look at the quantum trial state. We employed the [DoubleExcitation ansatz](https://docs.pennylane.ai/en/stable/code/api/pennylane.DoubleExcitation.html) from PennyLane in this tutorial, which is a widely used ansatz for solving the electronic structure problem. This ansatz is equivalent to the more famous [UCCSD ansatz](https://docs.pennylane.ai/en/stable/code/api/pennylane.UCCSD.html) in the case of the hydrogen molecule."
   ]
  },
  {
   "cell_type": "code",
   "execution_count": null,
   "id": "3d473383",
   "metadata": {},
   "outputs": [],
   "source": [
    "# define the ansatz circuit\n",
    "def V_T():\n",
    "    qml.DoubleExcitation(0.12, wires=[0, 1, 2, 3])\n",
    "\n",
    "# next we print out the statevector of this trial circuit operated on the Hartree Fock state\n",
    "dev = qml.device(\"lightning.qubit\", wires=4)\n",
    "@qml.qnode(dev)\n",
    "def hydrogen_circuit():\n",
    "    qml.PauliX(wires=0)\n",
    "    qml.PauliX(wires=1)\n",
    "    V_T()\n",
    "    return qml.state()\n",
    "\n",
    "state = hydrogen_circuit()\n",
    "print(state)"
   ]
  },
  {
   "cell_type": "markdown",
   "id": "3233eba2",
   "metadata": {},
   "source": [
    "As we can see, the quantum trial state has the following form:\n",
    "$$\n",
    "|\\Psi_T\\rangle = \\alpha |1100\\rangle + \\beta |0011\\rangle.\n",
    "$$\n",
    "The Hartree Fock state ($|\\phi_0\\rangle$) mentioned above can be represented as $|1100\\rangle$.\n",
    "\n",
    "<div class=\"alert alert-block alert-success\">\n",
    "<b>Activity:</b> Can you get the overlap $\\langle\\Psi_T|\\phi_0\\rangle$?\n",
    "</div>\n",
    "\n",
    "Next, we did some post-processing for the measured shadows."
   ]
  },
  {
   "cell_type": "code",
   "execution_count": null,
   "id": "f4d25765",
   "metadata": {},
   "outputs": [],
   "source": [
    "# then reconstruct the Q_list\n",
    "def Q_reconstruct(signed_permutation):\n",
    "    size = len(signed_permutation)\n",
    "    Q = np.zeros((size, size))\n",
    "    for i in range(size):\n",
    "        Q[int(abs(signed_permutation[i])-1), i] = np.sign(signed_permutation[i])\n",
    "    return Q\n",
    "\n",
    "Q_list = []\n",
    "for signed_permutation in Q_save:\n",
    "    Q = Q_reconstruct(signed_permutation)\n",
    "    Q_list.append(Q)"
   ]
  },
  {
   "cell_type": "code",
   "execution_count": null,
   "id": "e9aafb9d",
   "metadata": {},
   "outputs": [],
   "source": [
    "from afqmc.utils.matchgate import construct_covariance\n",
    "\n",
    "outcomes = []\n",
    "for i in measurement_output:\n",
    "    shadow_outcome = []\n",
    "    for j in list(i.keys()):\n",
    "        shadow_outcome.append([construct_covariance(j), i.get(j)])\n",
    "    outcomes.append(shadow_outcome)\n",
    "\n",
    "shadow = (outcomes, Q_list)"
   ]
  },
  {
   "cell_type": "markdown",
   "id": "30f38f39",
   "metadata": {},
   "source": [
    "Finally we can construct a quantum trial state $|\\Psi_T\\rangle$ using the class `QTrial`, and we'll compute the overlap and local energy with $|\\phi_0\\rangle$."
   ]
  },
  {
   "cell_type": "code",
   "execution_count": null,
   "id": "7883df76",
   "metadata": {},
   "outputs": [],
   "source": [
    "from afqmc.trial_wavefunction.quantum_ovlp import QTrial\n",
    "\n",
    "phi0 = np.array([[1,0], [0,1], [0,0], [0,0]])\n",
    "qtrial = QTrial(prop=prop, initial_state=[0, 1], ansatz_circuit=V_T, ifshadow=True, shadow=shadow)"
   ]
  },
  {
   "cell_type": "code",
   "execution_count": null,
   "id": "21b00bee",
   "metadata": {},
   "outputs": [],
   "source": [
    "%time\n",
    "# we'll first compute the overlap <\\Psi_T|\\phi>, the reference value have been provided\n",
    "ovlp = qtrial.compute_ovlp(phi0)\n",
    "print(f\"The computed ovlp is {np.round(ovlp, 6)}, while the reference value is {0.998201}.\")"
   ]
  },
  {
   "cell_type": "code",
   "execution_count": null,
   "id": "d8188b3f",
   "metadata": {},
   "outputs": [],
   "source": [
    "%time\n",
    "# then we compute the local energy\n",
    "local_energy, _ = qtrial.compute_local_energy(phi0, ovlp)\n",
    "print(f\"The computed local energy is {np.round(local_energy/ovlp + prop.nuclear_repulsion, 6)}, while the reference value is {-1.127071}.\")"
   ]
  },
  {
   "cell_type": "markdown",
   "id": "d16af48d",
   "metadata": {},
   "source": [
    "As you will see, the estimated overlap and local energy from classical shadows, are slightly off from the reference value. This is because shadow tomography is an approximation theory. The more shadows employed, the more accurate it will be."
   ]
  },
  {
   "cell_type": "markdown",
   "id": "f765c1b9-2168-4405-a57a-5660d72c9dcd",
   "metadata": {},
   "source": [
    "## Large scale post-processing with Batch\n",
    "\n",
    "So far, we have used Braket Hybrid Job to run matchgate circuits and collect measurement outcomes. Now we proceed to the classical post-processing step. We start with updaing the Batch job definition, since the post-processing of classical shadows requires more memory.\n",
    "\n",
    "### Update job definition\n",
    "\n",
    "<div class=\"alert alert-block alert-success\">\n",
    "<b>Activity:</b> Update the CloudFormation stack to increase the resource memory in the job definition to <b>2048</b>.\n",
    "</div>"
   ]
  },
  {
   "cell_type": "code",
   "execution_count": null,
   "id": "5c3999b0-76cb-494e-b128-af2db5f2ec48",
   "metadata": {},
   "outputs": [],
   "source": [
    "with open('batch-environment.yaml', 'r') as file:\n",
    "    template_body = file.read()\n",
    "\n",
    "stack_name = 'batch-environment'\n",
    "try:\n",
    "    cfn_client.update_stack(\n",
    "        StackName=stack_name,\n",
    "        TemplateBody=template_body,\n",
    "        Parameters=[\n",
    "            {'ParameterKey': 'JobDefResourceMemory', 'ParameterValue': '2048'}\n",
    "        ]\n",
    "    )\n",
    "    print(\"Waiting for CloudFormation stack to be updated...\")\n",
    "    waiter = cfn_client.get_waiter(\"stack_update_complete\")\n",
    "    waiter.wait(\n",
    "        StackName=stack_name,\n",
    "        WaiterConfig={\n",
    "            'Delay': 10,\n",
    "            'MaxAttempts': 150\n",
    "        }\n",
    "    )\n",
    "    print(\"CloudFormation stack updated.\")\n",
    "except cfn_client.exceptions.ClientError as e:\n",
    "    print(e)\n",
    "\n",
    "print()\n",
    "for output in cfn_client.describe_stacks(StackName=stack_name).get('Stacks')[0].get('Outputs'):\n",
    "    print(f\"{output.get('OutputKey')}: {output.get('OutputValue')}\")\n",
    "    if output.get('OutputKey') == \"DataBucketName\":\n",
    "        data_bucket_name = output.get('OutputValue')\n",
    "    if output.get('OutputKey') == \"JobQueue\":\n",
    "        job_queue = output.get('OutputValue')\n",
    "    if output.get('OutputKey') == \"JobDefinition\":\n",
    "        job_definition = output.get('OutputValue')"
   ]
  },
  {
   "cell_type": "markdown",
   "id": "5c045403-afa6-4d12-accf-f52efa87e104",
   "metadata": {},
   "source": [
    "### Run the Batch job\n",
    "\n",
    "Next we submit the Batch job, just like we did in lab-1. Note that we have to specify one additiona environment variable `JOB_INPUT_FILE_KEY`, pointing to the S3 location where the classical shadows are saved."
   ]
  },
  {
   "cell_type": "code",
   "execution_count": null,
   "id": "431f3a8b-409e-4ee3-9886-42cb7cca99be",
   "metadata": {},
   "outputs": [],
   "source": [
    "response = batch_client.submit_job(\n",
    "    jobName=\"lab-2-quantum-large-scale\",\n",
    "    jobQueue=job_queue,\n",
    "    jobDefinition=job_definition,\n",
    "    containerOverrides={\n",
    "        \"environment\": [\n",
    "            {\"name\": \"JOB_INPUT_FILE_KEY\", \"value\": f\"{hybrid_job_output_prefix}/output/model.tar.gz\"},\n",
    "            {\"name\": \"JOB_ENTRY_POINT\", \"value\": \"run_qc_afqmc\"},\n",
    "            {\"name\": \"JOB_DTAU\", \"value\": \"0.005\"},\n",
    "            {\"name\": \"JOB_TIME_STEPS\", \"value\": \"200\"}\n",
    "        ]\n",
    "    },\n",
    "    arrayProperties={\"size\": 200}\n",
    ")\n",
    "\n",
    "jobId = response[\"jobId\"]"
   ]
  },
  {
   "cell_type": "code",
   "execution_count": null,
   "id": "7513c6ac-8e7a-430d-9d9e-e2340c268cac",
   "metadata": {},
   "outputs": [],
   "source": [
    "batch_client.describe_jobs(jobs=[jobId]).get(\"jobs\")[0].get(\"status\")"
   ]
  },
  {
   "cell_type": "markdown",
   "id": "c85672f0-87cc-4453-a6a4-4bebd84f2d95",
   "metadata": {},
   "source": [
    "## Retrieve results of large-scale post-processing job\n",
    "\n",
    "Finally, let's summarize the QC-AFQMC calculation results, and compare it against its classical counterpart."
   ]
  },
  {
   "cell_type": "code",
   "execution_count": null,
   "id": "2185018b",
   "metadata": {},
   "outputs": [],
   "source": [
    "import json\n",
    "import numpy as np\n",
    "from pathlib import Path\n",
    "\n",
    "local_energies_real = []\n",
    "local_energies_imag = []\n",
    "weights = []\n",
    "\n",
    "for i in range(200):\n",
    "    with open(f\"results/lab-1/result_{i}.json\", \"r\") as file:\n",
    "        data = json.load(file)\n",
    "    [local_energies_real.append(j) for j in data[\"local_energies_real\"]]\n",
    "    [local_energies_imag.append(j) for j in data[\"local_energies_imag\"]]\n",
    "    [weights.append(j) for j in data[\"weights\"]]\n",
    "\n",
    "local_energies = [[ii+1.j*jj for ii, jj in zip(i, j)] for i, j in zip(local_energies_real, local_energies_imag)]   \n",
    "classical_energies = np.real(np.average(local_energies, weights=weights, axis=0))"
   ]
  },
  {
   "cell_type": "code",
   "execution_count": null,
   "id": "eb2ce04a",
   "metadata": {},
   "outputs": [],
   "source": [
    "import json\n",
    "import numpy as np\n",
    "from pathlib import Path\n",
    "\n",
    "job = batch_client.describe_jobs(jobs=[jobId])[\"jobs\"][0]\n",
    "job_status = job[\"status\"]\n",
    "if job_status == \"SUCCEEDED\":\n",
    "    Path(\"results/lab-2\").mkdir(parents=True, exist_ok=True)\n",
    "    s3_client = boto3.client(\"s3\")\n",
    "    for i in range(200):\n",
    "        s3_client.download_file(\n",
    "            data_bucket_name,\n",
    "            f\"batch/{jobId}:{i}/results.json\",\n",
    "            f\"results/lab-2/result_{i}.json\"\n",
    "        )\n",
    "else:\n",
    "    print(f\"Your job is in status {job_status}\")\n",
    "\n",
    "local_energies_real = []\n",
    "local_energies_imag = []\n",
    "weights = []\n",
    "\n",
    "for i in range(200):\n",
    "    with open(f\"results/lab-2/result_{i}.json\", \"r\") as file:\n",
    "        data = json.load(file)\n",
    "    [local_energies_real.append(j) for j in data[\"local_energies_real\"]]\n",
    "    [local_energies_imag.append(j) for j in data[\"local_energies_imag\"]]\n",
    "    [weights.append(j) for j in data[\"weights\"]]\n",
    "\n",
    "local_energies = [[ii+1.j*jj for ii, jj in zip(i, j)] for i, j in zip(local_energies_real, local_energies_imag)]   \n",
    "qc_energies = np.real(np.average(local_energies, weights=weights, axis=0))"
   ]
  },
  {
   "cell_type": "code",
   "execution_count": null,
   "id": "8e73172a",
   "metadata": {},
   "outputs": [],
   "source": [
    "import matplotlib.pyplot as plt\n",
    "\n",
    "%matplotlib inline\n",
    "\n",
    "plt.plot(\n",
    "    0.005 * np.arange(600),\n",
    "    classical_energies,\n",
    "    linestyle=\"dashed\",\n",
    "    marker=\".\",\n",
    "    color=\"tab:blue\",\n",
    "    label=\"classical\",\n",
    ")\n",
    "plt.plot(\n",
    "    0.005 * np.arange(200),\n",
    "    qc_energies,\n",
    "    linestyle=\"dashed\",\n",
    "    marker=\".\",\n",
    "    color=\"tab:orange\",\n",
    "    label=\"quantum\",\n",
    ")\n",
    "plt.axhline(-1.137117067345732, linestyle=\"dashed\", color=\"black\")\n",
    "plt.title(r\"Ground state estimation of H$_2$ using AFQMC\", fontsize=16)\n",
    "plt.legend(fontsize=14, loc=\"upper right\")\n",
    "plt.xlabel(r\"$\\tau$\", fontsize=14)\n",
    "plt.ylabel(\"Energy\", fontsize=14)\n",
    "plt.yticks(fontsize=14)\n",
    "plt.tick_params(direction=\"in\", labelsize=14)\n",
    "plt.show()"
   ]
  },
  {
   "cell_type": "markdown",
   "id": "e51783af",
   "metadata": {},
   "source": [
    "## Wrapping up\n",
    "\n",
    "<div class=\"alert alert-block alert-info\">\n",
    "<b>You reached the end of lab 2. Well done!</b>\n",
    "</div>"
   ]
  }
 ],
 "metadata": {
  "kernelspec": {
   "display_name": "conda_braket",
   "language": "python",
   "name": "conda_braket"
  },
  "language_info": {
   "codemirror_mode": {
    "name": "ipython",
    "version": 3
   },
   "file_extension": ".py",
   "mimetype": "text/x-python",
   "name": "python",
   "nbconvert_exporter": "python",
   "pygments_lexer": "ipython3",
   "version": "3.10.18"
  }
 },
 "nbformat": 4,
 "nbformat_minor": 5
}
