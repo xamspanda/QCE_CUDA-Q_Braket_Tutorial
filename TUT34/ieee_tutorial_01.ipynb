{
 "cells": [
  {
   "cell_type": "code",
   "execution_count": null,
   "metadata": {},
   "outputs": [],
   "source": [
    "# SPDX-License-Identifier: Apache-2.0 AND CC-BY-NC-4.0\n",
    "#\n",
    "# Licensed under the Apache License, Version 2.0 (the \"License\");\n",
    "# you may not use this file except in compliance with the License.\n",
    "# You may obtain a copy of the License at\n",
    "#\n",
    "# http://www.apache.org/licenses/LICENSE-2.0\n",
    "#\n",
    "# Unless required by applicable law or agreed to in writing, software\n",
    "# distributed under the License is distributed on an \"AS IS\" BASIS,\n",
    "# WITHOUT WARRANTIES OR CONDITIONS OF ANY KIND, either express or implied.\n",
    "# See the License for the specific language governing permissions and\n",
    "# limitations under the License."
   ]
  },
  {
   "cell_type": "markdown",
   "metadata": {},
   "source": [
    "# Quantum Walks for Finance Part 1: Introduction to Discrete Time Quantum Walks\n",
    "$\n",
    "\\renewcommand{\\ket}[1]{|{#1}\\rangle}\n",
    "\\renewcommand{\\bra}[1]{\\langle{#1}|}\n",
    "$"
   ]
  },
  {
   "cell_type": "markdown",
   "metadata": {},
   "source": [
    "--- \n",
    "## Overview\n",
    "This tutorial serves as an introduction to quantum walks, using the discrete time quantum walk as an example. It prepares you for the next tutorial, where we will apply quantum walks to a finance problem. You will learn about quantum walks by comparing them to classical random walks. By the end of the tutorial, you will have coded a variational discrete time quantum walk in CUDA-Q, setting the stage for exploring more advanced walking protocols and parameter optimization in the next notebook.\n",
    "\n",
    "**What you'll do:**\n",
    "* Review CUDA-Q programming syntax\n",
    "* Compare classical random walks with a discrete time quantum walk\n",
    "* Develop and implement a kernel with custom gates for a discrete time quantum walk along a line segment\n",
    "\n",
    "**CUDA-Q syntax you'll use:**\n",
    "* quantum kernel function decoration: `@cudaq.kernel`\n",
    "* qubit initialization: `cudaq.qvector` and `cudaq.qubit`\n",
    "* quantum gates: `x`, `h`, `t`, _`.ctrl`, `cudaq.register_operation` \n",
    "* execute a kernel: `sample`, `get_state`, _`.amplitude`\n",
    "* visualize circuit structure of a kernel: `cudaq.draw`\n",
    "\n",
    "**Pre-requisites:** Learners should have familiarity with Jupyter notebooks and programming in Python and CUDA-Q. It is assumed the reader has some familiarity already with quantum computation and is comfortable with braket notation and the concepts of qubits, quantum circuits, measurement, and circuit sampling. The CUDA-Q Academic course entitled \"[Quick Start to Quantum Computing with CUDA-Q](https://github.com/NVIDIA/cuda-q-academic/tree/main/quick-start-to-quantum)\" provide a walkthrough of this prerequisite knowledge if the reader is new to quantum computing and CUDA-Q or needs refreshing.\n",
    "\n",
    "\n",
    "First let's install the necessary packages."
   ]
  },
  {
   "cell_type": "code",
   "execution_count": null,
   "metadata": {},
   "outputs": [],
   "source": [
    "import cudaq\n",
    "import numpy as np\n",
    "import matplotlib.pyplot as plt"
   ]
  },
  {
   "cell_type": "markdown",
   "metadata": {},
   "source": [
    "---\n",
    "## CUDA-Q Basics\n",
    "\n",
    "Let's start with a brief overview of CUDA-Q syntax, which will be utilized throughout this tutorial"
   ]
  },
  {
   "cell_type": "markdown",
   "metadata": {},
   "source": [
    "### Defining quantum kernels and custom gates\n",
    "\n",
    "Quantum kernels are functions that can be executed on quantum hardware, and in Python, these are marked with the `@cudaq.kernel` decorator.\n",
    "\n",
    "For instance, you might want to create a quantum kernel that initializes a few qubits and applies specific gate operations to them.  CUDA-Q offers several pre-defined gates, which you can explore in detail [here](https://nvidia.github.io/cuda-quantum/latest/api/default_ops.html). As demonstrated in the following example, you can also define custom gate operations from a unitary matrix using the `register_operation` command.  Additionally, it is possible to create operators controlled by a control qubit.   \n",
    "\n",
    "Let's see how to create a kernel in CUDA-Q.  We'll initialize 2 qubits in the zero state using `cudaq.qvector` and apply a bit flip gate followed by a custom $T$-gate to the first qubit and apply a Hadamard gate to the 2nd qubit, and a controlled $T$-gate between the two qubits. For a full list of gates built into CUDA-Q, check out the [documentation](https://nvidia.github.io/cuda-quantum/latest/api/default_ops.html). \n",
    "\n",
    "Here's how to define and visualize this kernel using `cudaq`:"
   ]
  },
  {
   "cell_type": "code",
   "execution_count": null,
   "metadata": {},
   "outputs": [],
   "source": [
    "# Define a quantum kernel with 2 qubits using built in gates, \n",
    "# a custom gate, and controlled gates\n",
    "\n",
    "# Define a unitary matrix for the custom T gate\n",
    "T = np.matrix([[1, 0], [0, np.exp(1j * np.pi / 4)]])\n",
    "\n",
    "# Create a quantum gate operation for the matrix T and call it Tgate\n",
    "cudaq.register_operation(\"Tgate\", T)\n",
    "\n",
    "\n",
    "@cudaq.kernel\n",
    "def my_kernel(num_qubits : int):\n",
    "    # Initialize the qubits\n",
    "    qubits = cudaq.qvector(num_qubits)\n",
    "\n",
    "    # Apply an x-gate followed by a t-gate to the first qubit\n",
    "    x(qubits[0])\n",
    "    Tgate(qubits[0])  # or alternatively use the cuda-q t-gate function: t(qubits[0])    \n",
    "\n",
    "    # Apply a Hadamard gate to the second qubit\n",
    "    h(qubits[1])\n",
    "\n",
    "    # Apply a controlled-Tgate with control qubit 0 and target qubit 1\n",
    "    Tgate.ctrl(qubits[0], qubits[1])\n",
    "\n",
    "\n",
    "num_qubits = 2\n",
    "\n",
    "\n",
    "# Visualize the quantum kernel using circuit notation\n",
    "print(cudaq.draw(my_kernel, num_qubits))"
   ]
  },
  {
   "cell_type": "markdown",
   "metadata": {},
   "source": [
    "The kernel in the previous code block defined a quantum circuit, but we can also use kernels to define operations on qubits.  We'll see an example of this in the next section when we define the kernel `initial_position` which accepts as input a list of qubits with type `cudaq.qvector` (or`cudaq.qview`)."
   ]
  },
  {
   "cell_type": "markdown",
   "metadata": {},
   "source": [
    "### Executing a quantum kernel\n",
    "\n",
    "In CUDA-Q, there are 4 ways to execute quantum kernels:\n",
    "\n",
    "1. `sample`: provides measurement counts\n",
    "2. `run`: yields individual return values from multiple executions\n",
    "3. `observe`: computes expectation values\n",
    "4. `get_state`: outputs the quantum statevector of the computation\n",
    "\n",
    "For now, we'll only need `sample` and `get_state`.  Let's see how they work for our example:"
   ]
  },
  {
   "cell_type": "code",
   "execution_count": null,
   "metadata": {},
   "outputs": [],
   "source": [
    "# Define the simulation target\n",
    "cudaq.set_target(\"qpp-cpu\")  # \"nvidia\" for simulation on a GPU \n",
    "\n",
    "# Sample the kernel and print the aggregated results\n",
    "result = cudaq.sample(my_kernel, num_qubits, shots_count=1000)\n",
    "print('The result of sampling the kernel with qubit ordering q0, q1 is:', result)\n",
    "\n",
    "# For more refined information from multiple runs of the kernel than sample provides, \n",
    "# you can use the run command\n",
    "\n",
    "# Get the state of the kernel and print the statevector\n",
    "state = cudaq.get_state(my_kernel, num_qubits)\n",
    "precision = 4\n",
    "print('The get_state command uses the default ordering \\n00, 10, 01, 11 for listing the coefficients of the statevector:\\n',np.round(np.array(state), precision))"
   ]
  },
  {
   "cell_type": "markdown",
   "metadata": {},
   "source": [
    "---\n",
    "## Discrete Time Quantum Walks"
   ]
  },
  {
   "cell_type": "markdown",
   "metadata": {},
   "source": [
    "This section will prepare us for Quantum Walks for Finance Part 2, where we address the following problem:\n",
    "\n",
    "> **Encoding Probability Distributions Problem**:  Given a discrete probability distribution $\\mathcal{P}$, generate a quantum kernel (i.e., a sequence of quantum gates) that transforms an initial state into a final state whose measurement outcomes match the target distribution $\\mathcal{P}$.\n",
    "\n",
    "One approach to tackle this problem is through random walks by using a variational algorithm to search for the random walk that will generate a targeted distribution, as depicted in the animation below. \n",
    "\n",
    "<img src=\"https://raw.githubusercontent.com/NVIDIA/cuda-q-academic/refs/heads/main/images/quantum_walk_target.gif\" width=\"600\">\n",
    "\n",
    "Before we tackle that problem, we need to define quantum random walks.  Let's first visualize a classical random walk along a number line generating a binomial distribution. You can imagine a walker moving left or right depending on the result of a coin flip.  The animation below shows the experiment of a walker making 4 moves based on 4 separate coin flips run several times.  "
   ]
  },
  {
   "cell_type": "code",
   "execution_count": null,
   "metadata": {},
   "outputs": [],
   "source": [
    "# Run this code to watch a short video demonstrating a random walk\n",
    "# The green dot represents the walker whose movements are dictated by flips of a fair coin\n",
    "# The ending position from each run of the experiment is recorded in the histogram\n",
    "from IPython.display import Video\n",
    "\n",
    "# Path to the MP4 file\n",
    "video_path = \"images/galton_board-coin.mp4\"\n",
    "\n",
    "# Display the video\n",
    "Video(video_path, embed=True, width = 400)"
   ]
  },
  {
   "cell_type": "markdown",
   "metadata": {},
   "source": [
    "Unlike classical random walks, where probabilities dictate movement, quantum walks rely on amplitudes. Interference between paths leads to a faster spread over the position space, making quantum walks useful for generating more complex probability distributions.  \n",
    "\n",
    "We start this section by defining classical random walks and discrete-time quantum walks (DTQW). In the following section, we use CUDA-Q to encode an example of a DTQW into a CUDA-Q kernel. "
   ]
  },
  {
   "cell_type": "markdown",
   "metadata": {
    "editable": true,
    "slideshow": {
     "slide_type": ""
    },
    "tags": []
   },
   "source": [
    "### Comparing Classical Random Walks with Discrete Time Quantum Walks \n",
    "\n",
    "Let's consider a discrete walk taking place on a line. In this scenario, we envision a walker progressing along the \n",
    "x-axis in discrete increments, with the movement governed by predefined rules based on coin flips.  A classical random walk can be viewed as a decision tree, as in the diagram below.  Here, a walker begins in the center of the line. After a coin flip, the walker moves to the left or right depending on the outcome of the coin flip (e.g., flipping heads will send the walker one step to the left, while flipping tails will send the walker one step to the right).  After $n$ coin flips, we record the position of the walker.  This experiment is repeated multiple times to generate a histogram of the walker's final position.\n",
    "\n",
    "<img src=\"images/classical-walk.png\" width=\"600\">\n",
    "\n",
    "A **discrete-time quantum walk (DTQW)** is the quantum analogue of a classical random walk. In this scenario, both the position of the walk and the coin are represented as quantum states, $\\ket{\\psi_W}$ and $\\ket{\\psi_C}$, respectively. Throughout this walk, the state of the walker changes according to quantum shift operators ($S_+, S_-$) which depend on the state of the coin $\\ket{\\psi_C}$. In particular, the $S_{-}$ operation checks if $\\ket{\\psi_C}$ in the state $\\ket{0}$ (i.e., heads) and if so, induces a shift left operation $DEC$ on the quantum walker. Similarly, $S_{+}$ is defined for tails and shifting right. At each time step, the state of the coin changes (i.e., is \"flipped\") via a quantum operation ($F$), which we'll call the coin-flip operator. Unlike the classical random walk, we will not know the position of the walker until the end of the process, when the quantum state of the walker is measured. \n",
    "\n",
    "In the diagram below, we illustrate a 2-step quantum walk where the coin-flip operator $F$ is the Hadamard gate.  Notice how the final distribution of the walker's possible positions differs from the classical case.\n",
    "\n",
    "\n",
    "<img src=\"images/dtqw-superposition-coin.png\" width=\"600\">\n",
    "\n",
    "\n",
    "#### The Line that the Walker Traverses\n",
    " For our example, we consider a line that contains $16$ positions: $0,1,\\cdots,15$ encoded with the computational basis states on $4$ qubits: $\\ket{\\bf{0}} = \\ket{0000}, \\ket{\\bf{1}} = \\ket{0001}, \\ket{\\bf{2}} = \\ket{0010}, \\cdots, \\ket{\\bf{15}} = \\ket{1111}$.  In other words, the computational basis state $\\ket{\\bf{i}}$ represents the $i^{th}$ location on the line. \n",
    "\n",
    "\n",
    "#### The Walker's Position State\n",
    "The walker's position after $t$ time steps is given by a linear combination of the computational basis states $$\\ket{\\psi_W} = \\sum_{i}\\alpha_i(t)\\ket{\\bf{i}},$$ for some $\\alpha_i(t)\\in\\mathbb{C}$ satisfying $\\sum_{i}|\\alpha_i(t)|^2 = 1$.  For instance, if the walker began the experiment at position $0$, then the state of the walker at time $0$ would be $\\ket{\\psi_W(0)}=\\ket{0000}$.  \n",
    "\n",
    "More interestingly, the walker might begin the experiment in a superposition of two or more positions, as depicted in the figure below.  In this case, the walker's initial state is $\\ket{\\psi_W(0)}=\\frac{1}{\\sqrt{2}}\\ket{0010}+\\frac{1}{\\sqrt{2}}\\ket{0011}$. The aim of this section is to encode into CUDA-Q the first step of the discrete time quantum walk drawn below.\n",
    "\n",
    "<img src=\"images/dtqw-superposition-walker.png\" width=\"600\">"
   ]
  },
  {
   "cell_type": "markdown",
   "metadata": {},
   "source": [
    "### Programming a DTQW with CUDA-Q\n",
    "\n",
    "Let's start coding up one step of the DTQW in CUDA-Q. The circuit diagram for this is the following: \n",
    "\n",
    "<img src=\"images/dtqw-one-step-diagram.png\" width=\"600\">\n",
    "\n",
    "The first step is to edit the code block below to create a kernel that generates the walker's initial position state: $\\ket{\\psi_W(0)}=\\frac{1}{\\sqrt{2}}\\ket{0010}+\\frac{1}{\\sqrt{2}}\\ket{0011}$ using an `h` gate and CNOT gates `x.ctrl(control_qubit, target_qubit)`."
   ]
  },
  {
   "cell_type": "code",
   "execution_count": 8,
   "metadata": {},
   "outputs": [],
   "source": [
    "# EXERCISE 1\n",
    "# Define a kernel that prepares the walker qubits in an\n",
    "# equal superposition of the states |2> = |0010> and |3> = |0011>\n",
    "# assuming the qubits have been initialized in the state |0000>\n",
    "@cudaq.kernel\n",
    "def initial_position(qubits : cudaq.qvector):\n",
    "    \"\"\" Apply gates to the qubits to prepare the GHZ state\n",
    "    Parameters\n",
    "        qubits: cudaq.qvector qubits for the walker \n",
    "    \"\"\"\n",
    "\n",
    "    # Edit the code below this line\n",
    "\n",
    "    x(qubits[2])\n",
    "    h(qubits[3])\n",
    "\n",
    "    # Edit the code above this line\n",
    "\n"
   ]
  },
  {
   "cell_type": "markdown",
   "metadata": {},
   "source": [
    "We can verify that our solution is correct by using the `cudaq.get_state` and _`.amplitudes` commands.  Additionally, in the code block below, we will create a helper function to graph the distribution of the walker's positions, as represented by the state."
   ]
  },
  {
   "cell_type": "code",
   "execution_count": 10,
   "metadata": {},
   "outputs": [
    {
     "name": "stdout",
     "output_type": "stream",
     "text": [
      "Walker state array of coefficients: [0.    +0.j 0.    +0.j 0.    +0.j 0.    +0.j 0.7071+0.j 0.    +0.j\n",
      " 0.    +0.j 0.    +0.j 0.    +0.j 0.    +0.j 0.    +0.j 0.    +0.j\n",
      " 0.7071+0.j 0.    +0.j 0.    +0.j 0.    +0.j]\n",
      "Walker statevector: (0.7071+0j) |0010> + (0.7071+0j) |0011>\n"
     ]
    },
    {
     "data": {
      "image/png": "[encoded data removed]",
      "text/plain": [
       "<Figure size 640x480 with 1 Axes>"
      ]
     },
     "metadata": {},
     "output_type": "display_data"
    }
   ],
   "source": [
    "# Create a quantum kernel that initializes the state of the walker in an\n",
    "# equal superposition of the states |2> = |0010> and |3> = |0011>\n",
    "num_qubits = 4\n",
    "@cudaq.kernel\n",
    "def walker(num_qubits : int):\n",
    "    \"\"\" Kernel to initialize the state of the walker in an \n",
    "    equal superposition of the states |2> = |0010> and |3> = |0011>\n",
    "    Parameters\n",
    "        num_qubits : int Number of qubits for the walker\n",
    "    \"\"\"\n",
    "    # Initialize the qubits\n",
    "    qubits = cudaq.qvector(num_qubits)\n",
    "    \n",
    "    # Apply the initial state to the qubits\n",
    "    initial_position(qubits)\n",
    "    \n",
    "# Define a function to draw the histogram of the results \n",
    "\n",
    "def plot_results(result, num_qubits):\n",
    "    # Define a dictionary of results \n",
    "\n",
    "    # Initialize the dictionary with all possible bit strings of length 4 for the x axis\n",
    "    result_dictionary = {}\n",
    "\n",
    "    # Generate all possible bit strings of length num_qubits\n",
    "    for i in range(2**num_qubits):\n",
    "        bitstr = bin(i)[2:].zfill(num_qubits)\n",
    "        result_dictionary[bitstr] = 0\n",
    "\n",
    "    # Update the results dictionary of results from the circuit sampling\n",
    "    for k,v in result.items():\n",
    "        result_dictionary[k] = v\n",
    "\n",
    "    # Convert the dictionary to lists for x and y values\n",
    "    x = list(result_dictionary.keys())\n",
    "\n",
    "    y = list(result_dictionary.values())\n",
    "\n",
    "    # Create the histogram\n",
    "    plt.bar(x, y, color='#76B900')\n",
    "\n",
    "    # Add title and labels\n",
    "    plt.title(\"Sampling of the DTQW\")\n",
    "    plt.xlabel(\"Positions\")\n",
    "    plt.ylabel(\"Frequency\")\n",
    "\n",
    "    # Rotate x-axis labels for readability\n",
    "    plt.xticks(rotation=45)\n",
    "\n",
    "    # Show the plot\n",
    "    plt.tight_layout()\n",
    "    plt.show()\n",
    "\n",
    "# Get the state of the walker after applying the quantum kernel\n",
    "state = cudaq.get_state(walker, num_qubits)\n",
    "\n",
    "# Return the amplitudes of |0010> and |0011>\n",
    "state_amplitudes = state.amplitudes([[0,0,1,0], [0,0,1,1]])\n",
    "\n",
    "# Print \n",
    "precision = 4\n",
    "print('Walker state array of coefficients:', np.round(np.array(state), precision))\n",
    "print('Walker statevector: {} |0010> + {} |0011>'.format(np.round(state_amplitudes[0],precision), np.round(state_amplitudes[1],precision)))\n",
    "\n",
    "# Define the simulation target\n",
    "cudaq.set_target(\"qpp-cpu\")  # \"nvidia\" for simulation on a GPU \n",
    "\n",
    "results = cudaq.sample(walker, num_qubits, shots_count =1000)\n",
    "plot_results(results, num_qubits)"
   ]
  },
  {
   "cell_type": "markdown",
   "metadata": {},
   "source": [
    "#### Walking the Line\n",
    "\n",
    "The next step (no pun intended) is to define incrementer (`INC`) and decrementer (`DEC`) operations, which will change the state of the walker with shifts to the left and right on the number line, respectively.  We'll use these operations to build up the shift operators $S_-$ and $S_+$ which depend on the state of the coin.  First, let's define `INC` so that when applied to a basis state $\\ket{x}$, the result is $\\ket{(x+1)_{\\mod{16}}}$ for $x\\in \\{0,\\cdots 15\\}$.  The unitary matrix below carries out this transformation:\n",
    "\n",
    "\\[ \\begin{pmatrix} 0 & 0 & 0 & 0 & \\cdots  \\\\ \n",
    "                        1 & 0 & 0 & 0 & \\cdots \\\\\n",
    "                        0 & 1 & 0 & 0 & \\cdots \\\\\n",
    "                        0 & 0 & 1 & 0 & \\cdots \\\\\n",
    "                        \\vdots & \\vdots & \\vdots & \\vdots & \\ddots \\end{pmatrix} \\]\n",
    "\n",
    "Using the `cudaq.register_operation` we can create a custom gate for this unitary matrix. The code block defines a `cudaq.kernel` to carry out the custom INC gate, and conducts a test to verify that the operation acts as expected on the zero state.  \n"
   ]
  },
  {
   "cell_type": "code",
   "execution_count": null,
   "metadata": {},
   "outputs": [],
   "source": [
    "# Define a custom operation on 4 qubits for the INC unitary matrix that\n",
    "# maps |x> to |x+1> mod 16 and verify that it works as expected for |0000>\n",
    "\n",
    "num_qubits = 4\n",
    "\n",
    "# Define the incrementer matrix\n",
    "def incrementer(num_qubits):\n",
    "    size = 2**num_qubits\n",
    "    inc_matrix = np.zeros((size, size))\n",
    "    for i in range(size):\n",
    "        inc_matrix[i, (i - 1) % size] = 1\n",
    "    return inc_matrix\n",
    "\n",
    "# Create a custom register operation for the incrementer\n",
    "cudaq.register_operation(\"INC\", incrementer(num_qubits))\n",
    "\n",
    "@cudaq.kernel\n",
    "def check_incrementer_kernel():\n",
    "    qubits = cudaq.qvector(4)\n",
    "    INC(qubits[0], qubits[1], qubits[2], qubits[3])\n",
    "\n",
    "# Print the INC circuit\n",
    "print(cudaq.draw(check_incrementer_kernel))\n",
    "\n",
    "result = cudaq.sample(check_incrementer_kernel, shots_count=1000).most_probable()\n",
    "print('Incrementer kernel |0000> -> |{}>'.format(result))"
   ]
  },
  {
   "cell_type": "markdown",
   "metadata": {},
   "source": [
    "Using the fact that `DEC` is the inverse of `INC`, create a kernel for a custom `DEC` operation."
   ]
  },
  {
   "cell_type": "code",
   "execution_count": null,
   "metadata": {},
   "outputs": [],
   "source": [
    "# EXERCISE 2 \n",
    "\n",
    "# Define a kernel on 4 qubits for the DEC operation that\n",
    "# maps |x> to |x-1> mod 16 and verify that it works as expected for |0001>\n",
    "\n",
    "\n",
    "\n",
    "# Define the decrementer matrix\n",
    "\n",
    "def decrementer(num_qubits):\n",
    "    size = 2**num_qubits\n",
    "    dec_matrix = np.zeros((size, size))\n",
    "    for i in range(size):\n",
    "        dec_matrix[i, (i + 1) % size] = 1\n",
    "    return dec_matrix\n",
    "\n",
    "\n",
    "# EDIT THE CODE BELOW THIS LINE\n",
    "\n",
    "# Create a custom register operation for the decrementer called DEC\n",
    "\n",
    "\n",
    "# EDIT THE CODE ABOVE THIS LINE\n",
    "\n",
    "# Create a kernel that applies the DEC to the 4-qubit state |0001>\n",
    "@cudaq.kernel\n",
    "def check_decrementer_kernel():\n",
    "    qubits = cudaq.qvector(4)\n",
    "    # Initialize the qubits to |0001>\n",
    "    x(qubits[3])\n",
    "    # Apply the decrementer operation \n",
    "    DEC(qubits[0], qubits[1], qubits[2], qubits[3])\n",
    "\n",
    "result = cudaq.sample(check_decrementer_kernel, shots_count=1000).most_probable()\n",
    "print('Decrementer kernel |0001> -> |{}>'.format(result))"
   ]
  },
  {
   "cell_type": "markdown",
   "metadata": {},
   "source": [
    "### Avoiding Walking in Circles\n",
    "\n",
    "It is important to note that, as currently outlined, we are on track to define a quantum walk that will allow a walker to move between positions $\\ket{0}=\\ket{0000}$ and $\\ket{15}=\\ket{1111}$ in one step.  This behavior might not be desired, for instance, in a financial application where the positions of the walker represent stock prices and movement is related to positive or negative investor sentiment. \n",
    "\n",
    "To prevent one-step transitions between $\\ket{0}$ and $\\ket{1}$ , we use an auxiliary qubit (`endpoint_qubit`), Toffoli gates, CNOT gates, and a mid-circuit `reset` to ensure a coin in the state $\\ket{1}$ does not trigger a shift right (`INC`) when the walker is at $\\ket{1111}$, and a coin in the state $\\ket{0}$ does not trigger a shift left (`DEC`) when the walker is in the state $\\ket{0000}$. This process is depicted below for one step of the DTQW:\n",
    "\n",
    "<img src=\"images/DTQW_endpoint.png\" width=\"600\">\n",
    "\n",
    "The corresponding functions to prevent one-step transitions between $\\ket{0000}$ and $\\ket{1111}$ are defined below."
   ]
  },
  {
   "cell_type": "code",
   "execution_count": null,
   "metadata": {},
   "outputs": [],
   "source": [
    "# Define kernels to prevent transitions between |0000> and |1111>\n",
    "\n",
    "# Kernel to change a coin from 1 to 0 if the walker is in the state |1111>\n",
    "@cudaq.kernel\n",
    "def no_INC_at_right_endpoint(walker_qubits : cudaq.qvector, coin_qubit : cudaq.qubit, right_endpoint: cudaq.qubit):\n",
    "    \n",
    "    # Test if the coin is in |1> and the walker state is |1111>,  if so, change the end_point qubit to 1\n",
    "    x.ctrl([coin_qubit, walker_qubits[0], walker_qubits[1], walker_qubits[2], walker_qubits[3]], right_endpoint)\n",
    "    \n",
    "    # Flip the state of the coin if the endpoint is triggered\n",
    "    x.ctrl(right_endpoint, coin_qubit)\n",
    "    \n",
    "\n",
    "# Kernel to change a coin from 0 to 1 if the walker is in the state |0000>\n",
    "@cudaq.kernel\n",
    "def no_DEC_at_left_endpoint(walker_qubits : cudaq.qvector, coin_qubit : cudaq.qubit, left_endpoint: cudaq.qubit):\n",
    "    # Bit Flip the walker and coin qubits\n",
    "    x(coin_qubit)\n",
    "    x(walker_qubits)\n",
    "    \n",
    "    # Trigger the left_endpoint qubit if the walker and the coin are now in the states |1> and |1111> respectively \n",
    "    x.ctrl([coin_qubit, walker_qubits[0], walker_qubits[1], walker_qubits[2], walker_qubits[3]], left_endpoint)\n",
    "    \n",
    "    # Undo the bit flip on the walker and coin qubits\n",
    "    x(walker_qubits)\n",
    "    x(coin_qubit)\n",
    "    \n",
    "    # Flip the coin fron |0> to |1> if the endpoint qubit is triggered\n",
    "    x.ctrl(left_endpoint, coin_qubit)\n",
    "   \n",
    "# Kernel to reset the coin and endpoint qubit\n",
    "@cudaq.kernel()\n",
    "def reset_coin_and_endpoint(coin_qubit : cudaq.qubit, endpoint: cudaq.qubit):\n",
    "    # change the coin qubit back if it was targeted by the endpoint qubit\n",
    "    x.ctrl(endpoint, coin_qubit)\n",
    "\n",
    "    # reset the endpoint qubit to |0>\n",
    "    reset(endpoint)"
   ]
  },
  {
   "cell_type": "markdown",
   "metadata": {},
   "source": [
    "#### The State of the Coin\n",
    "\n",
    "Not only is the position of the walker at any given time step a linear combination of the computational basis states, but also the coin is a linear combination of heads:\n",
    "\n",
    "$ \\ket{0} = \\begin{pmatrix}1 \\\\ 0 \\end{pmatrix}$\n",
    "\n",
    "and tails:\n",
    "\n",
    "$ \\ket{1} = \\begin{pmatrix}0 \\\\ 1 \\end{pmatrix}$\n",
    "\n",
    "and depends on $t$: $$\\ket{\\psi_C(t)} = \\beta_0(t)\\ket{0}+\\beta_1(t)\\ket{1},$$ for $\\beta_0,\\beta_1\\in\\mathbb{C}$ with $|\\beta_0(t)|^2 + |\\beta_1(t)|^2 = 1.$  For example, we might begin the experiment with a coin in the zero (heads) state: $\\ket{\\psi_C(0)}=\\ket{0}$.  Another option would be to start the experiment with the coin in a state of superposition of both heads and tails: $\\ket{\\psi_W(0)}=\\frac{1}{\\sqrt{2}}\\ket{0}+\\frac{1}{\\sqrt{2}}\\ket{1}\\equiv\\ket{+}$.\n",
    "\n",
    "#### Changing the State of the Coin\n",
    "\n",
    "The flipping of the coin is carried out by a quantum operation, $F$.  If the coinflip operation is the bitflip operation, $X$,\n",
    "and the initial state of the coin is $\\ket{\\psi_C(0)} = \\ket{0}$, then, flipping the coin would just change the state from $\\ket{0}$ to $\\ket{1}$ &mdash; much like the classical random walk.   \n",
    "\n",
    "A common and more interesting quantum coinflip operation is the Hadamard operator, $F=H$, as illustrated in the diagrams of the DTQW above.\n",
    "Applying this operator iteratively to the coin in the initial state $\\ket{\\psi_C(0)} = \\ket{0}$, will result in alternating coin states $\\ket{+}$ and $\\ket{0}$."
   ]
  },
  {
   "cell_type": "markdown",
   "metadata": {},
   "source": [
    "We're not limited to constant coin operators, and could consider a coin operator that depends on parameters such as the Grover operator used for searching a graph for marked vertices ([Li and Sun](https://journals.aps.org/prresearch/pdf/10.1103/PhysRevResearch.6.033042), or for an exposition [Wong](https://arxiv.org/pdf/2011.14533)). Moreover, the coin operator might depend on parameters that change from one step to the next and can be learnable, as we'll see in the next tutorial."
   ]
  },
  {
   "cell_type": "markdown",
   "metadata": {},
   "source": [
    "#### Changing the State of the Walker Based on Coin Flips:\n",
    "\n",
    "Now, we're ready to put all of these kernels together to program one step of the DTQW.  Let's set the initial state of the walker to be $\\ket{\\psi_W(0)} = \\frac{1}{\\sqrt{2}}(\\ket{0010}+\\ket{0011})$. The steps $S_+$ and $S_-$, which depend on the state of the coin, can be modeled with controlled-gates and the `INC` and `DEC` operations, respectively.  We've defined the $S_+$ step below.  How would you edit the code to call up the `DEC` operator when the coin qubit is in the $\\ket{0}$ state? "
   ]
  },
  {
   "cell_type": "code",
   "execution_count": null,
   "metadata": {},
   "outputs": [],
   "source": [
    "# EXERCISE 3\n",
    "# Complete the code below to define S-\n",
    "# S- will apply the DEC operation to the walker qubits\n",
    "# when the coin qubit is in the |0> state\n",
    "\n",
    "# Set the number of qubits\n",
    "num_qubits = 4\n",
    "\n",
    "@cudaq.kernel\n",
    "def DTQW_one_step(num_qubits: int):\n",
    "    walker_qubits = cudaq.qvector(num_qubits)\n",
    "    coin_qubit = cudaq.qubit()\n",
    "    endpoint_qubit = cudaq.qubit()\n",
    "\n",
    "    # Initial walker state 1/(sqrt{2}) ( |2>+|3>)\n",
    "    initial_position(walker_qubits)\n",
    "        \n",
    "    # Initial coin state    \n",
    "    h(coin_qubit) #Comment to set the initial coin state to be |0>\n",
    "        \n",
    "    # One quantum walk step\n",
    "    # Coin operation F=H\n",
    "    h(coin_qubit)\n",
    "    \n",
    "    # Walker's position change \n",
    "    \n",
    "    ## Shifting right\n",
    "    \n",
    "    # Avoid shifting from |1111> to |0000> in case the coin is |1> by flipping the coin to |0>\n",
    "    no_INC_at_right_endpoint(walker_qubits, coin_qubit, endpoint_qubit)\n",
    "    \n",
    "    # Shift right (S+) when the coin is |1> and the walker is not in the |1111> state\n",
    "    INC.ctrl(coin_qubit, walker_qubits[0], walker_qubits[1], walker_qubits[2], walker_qubits[3])\n",
    "\n",
    "    # Reset the coin and endpoints in case they were changed to avoid moving from |1111> to |0000>\n",
    "    reset_coin_and_endpoint(coin_qubit, endpoint_qubit)\n",
    "    \n",
    "    ## Shifting left\n",
    "    \n",
    "    # Avoid shifting from |0000> to |1111> in case the coin is |0> by flipping the coin to |1>\n",
    "    no_DEC_at_left_endpoint(walker_qubits, coin_qubit, endpoint_qubit)\n",
    "    \n",
    "    # Shift left (S-) when the coin is |0>\n",
    "    # EDIT CODE BELOW THIS LINE\n",
    "    \n",
    "\n",
    "\n",
    "    \n",
    "    # EDIT CODE ABOVE THIS LINE\n",
    "    \n",
    "    # Reset the coin and endpoints in case they were changed to avoid moving from |0000> to |1111>\n",
    "    reset_coin_and_endpoint(coin_qubit, endpoint_qubit)\n",
    "    \n",
    "    mz(walker_qubits)\n",
    "\n",
    "# Visualize the kernel for the quantum walk\n",
    "#print(cudaq.draw(DTQW_one_step, num_qubits))\n",
    "\n",
    "# Sample the kernel for the quantum walk\n",
    "result = cudaq.sample(DTQW_one_step, num_qubits, shots_count=1000)\n",
    "print(result)\n",
    "plot_results(result, num_qubits)"
   ]
  },
  {
   "cell_type": "markdown",
   "metadata": {},
   "source": [
    "Does the output match what you expect?  Experiment with different initial states of the coin and walker qubits and different coin operators."
   ]
  },
  {
   "cell_type": "markdown",
   "metadata": {},
   "source": [
    "In the next notebook, Quantum Walks for Finance Part 2: Learnable Quantum Walk in Financial Simulation, we'll extend this idea allowing for parameterized coinflip operations, and introduce the idea of a split step.  These will allow us to generate more interesting probability distributions than what we can do with the DTQW, which may better model financial data.  "
   ]
  }
 ],
 "metadata": {
  "kernelspec": {
   "display_name": "docker_cudaq",
   "language": "python",
   "name": "docker_cudaq"
  },
  "language_info": {
   "codemirror_mode": {
    "name": "ipython",
    "version": 3
   },
   "file_extension": ".py",
   "mimetype": "text/x-python",
   "name": "python",
   "nbconvert_exporter": "python",
   "pygments_lexer": "ipython3",
   "version": "3.10.12"
  }
 },
 "nbformat": 4,
 "nbformat_minor": 4
}
